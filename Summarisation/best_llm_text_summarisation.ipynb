{
 "cells": [
  {
   "cell_type": "code",
   "execution_count": 5,
   "id": "ae12088a",
   "metadata": {},
   "outputs": [],
   "source": [
    "import ollama\n",
    "import pandas as pd\n",
    "from datasets import load_dataset\n",
    "\n",
    "from datasets import Dataset \n",
    "from ragas.metrics import summarization_score\n",
    "from ragas import evaluate"
   ]
  },
  {
   "cell_type": "code",
   "execution_count": 6,
   "id": "9b99f431",
   "metadata": {},
   "outputs": [
    {
     "data": {
      "text/html": [
       "<div>\n",
       "<style scoped>\n",
       "    .dataframe tbody tr th:only-of-type {\n",
       "        vertical-align: middle;\n",
       "    }\n",
       "\n",
       "    .dataframe tbody tr th {\n",
       "        vertical-align: top;\n",
       "    }\n",
       "\n",
       "    .dataframe thead th {\n",
       "        text-align: right;\n",
       "    }\n",
       "</style>\n",
       "<table border=\"1\" class=\"dataframe\">\n",
       "  <thead>\n",
       "    <tr style=\"text-align: right;\">\n",
       "      <th></th>\n",
       "      <th>text</th>\n",
       "      <th>summary</th>\n",
       "      <th>__index_level_0__</th>\n",
       "    </tr>\n",
       "  </thead>\n",
       "  <tbody>\n",
       "    <tr>\n",
       "      <th>0</th>\n",
       "      <td>LONDON - Hunting PLC (LSE: HTG), a precision e...</td>\n",
       "      <td>Hunting PLC's 2023 financial performance align...</td>\n",
       "      <td>1124</td>\n",
       "    </tr>\n",
       "    <tr>\n",
       "      <th>1</th>\n",
       "      <td>Promoter entity of Sapphire Foods India Arinja...</td>\n",
       "      <td>Sapphire Foods India's promoter, Arinjaya (Mau...</td>\n",
       "      <td>1097</td>\n",
       "    </tr>\n",
       "    <tr>\n",
       "      <th>2</th>\n",
       "      <td>Gold price climbed Rs 410 to Rs 61,210 per 10 ...</td>\n",
       "      <td>Gold prices rose by Rs 410 to Rs 61,210 per 10...</td>\n",
       "      <td>1258</td>\n",
       "    </tr>\n",
       "    <tr>\n",
       "      <th>3</th>\n",
       "      <td>New Delhi, Jan 11 (IANS)  Life Insurance  Corp...</td>\n",
       "      <td>LIC received orders for Rs 3,528 crore from In...</td>\n",
       "      <td>856</td>\n",
       "    </tr>\n",
       "    <tr>\n",
       "      <th>4</th>\n",
       "      <td>“I don’t want to sound alarmist, but it pays t...</td>\n",
       "      <td>MFIs have become the largest providers of micr...</td>\n",
       "      <td>1718</td>\n",
       "    </tr>\n",
       "  </tbody>\n",
       "</table>\n",
       "</div>"
      ],
      "text/plain": [
       "                                                text  \\\n",
       "0  LONDON - Hunting PLC (LSE: HTG), a precision e...   \n",
       "1  Promoter entity of Sapphire Foods India Arinja...   \n",
       "2  Gold price climbed Rs 410 to Rs 61,210 per 10 ...   \n",
       "3  New Delhi, Jan 11 (IANS)  Life Insurance  Corp...   \n",
       "4  “I don’t want to sound alarmist, but it pays t...   \n",
       "\n",
       "                                             summary  __index_level_0__  \n",
       "0  Hunting PLC's 2023 financial performance align...               1124  \n",
       "1  Sapphire Foods India's promoter, Arinjaya (Mau...               1097  \n",
       "2  Gold prices rose by Rs 410 to Rs 61,210 per 10...               1258  \n",
       "3  LIC received orders for Rs 3,528 crore from In...                856  \n",
       "4  MFIs have become the largest providers of micr...               1718  "
      ]
     },
     "execution_count": 6,
     "metadata": {},
     "output_type": "execute_result"
    }
   ],
   "source": [
    "ds = load_dataset(\"sujayC66/text_summarization_512_length_1_4000\")\n",
    "df = pd.DataFrame(ds['train'])\n",
    "df = df.rename(columns={\"content\": \"text\"})\n",
    "df.head()"
   ]
  },
  {
   "cell_type": "code",
   "execution_count": 7,
   "id": "31e4620d",
   "metadata": {},
   "outputs": [],
   "source": [
    "df = df.drop(columns = [\"summary\", \"__index_level_0__\"])"
   ]
  },
  {
   "cell_type": "code",
   "execution_count": 8,
   "id": "f07dec0f",
   "metadata": {},
   "outputs": [],
   "source": [
    "df = df.sample(10)"
   ]
  },
  {
   "cell_type": "code",
   "execution_count": 9,
   "id": "1a370713",
   "metadata": {},
   "outputs": [],
   "source": [
    "def word_count(text):\n",
    "    return len(text.split())"
   ]
  },
  {
   "cell_type": "code",
   "execution_count": 10,
   "id": "2b7497d5",
   "metadata": {},
   "outputs": [
    {
     "data": {
      "text/html": [
       "<div>\n",
       "<style scoped>\n",
       "    .dataframe tbody tr th:only-of-type {\n",
       "        vertical-align: middle;\n",
       "    }\n",
       "\n",
       "    .dataframe tbody tr th {\n",
       "        vertical-align: top;\n",
       "    }\n",
       "\n",
       "    .dataframe thead th {\n",
       "        text-align: right;\n",
       "    }\n",
       "</style>\n",
       "<table border=\"1\" class=\"dataframe\">\n",
       "  <thead>\n",
       "    <tr style=\"text-align: right;\">\n",
       "      <th></th>\n",
       "      <th>text</th>\n",
       "      <th>nwords_text</th>\n",
       "    </tr>\n",
       "  </thead>\n",
       "  <tbody>\n",
       "    <tr>\n",
       "      <th>15</th>\n",
       "      <td>Shimla, Jan 10 (IANS) A four-member multi-inst...</td>\n",
       "      <td>159</td>\n",
       "    </tr>\n",
       "    <tr>\n",
       "      <th>461</th>\n",
       "      <td>SYDNEY - The Australian dollar experienced a n...</td>\n",
       "      <td>211</td>\n",
       "    </tr>\n",
       "    <tr>\n",
       "      <th>1836</th>\n",
       "      <td>New Delhi, Jan 11 (IANS)  Life Insurance  Corp...</td>\n",
       "      <td>218</td>\n",
       "    </tr>\n",
       "    <tr>\n",
       "      <th>2792</th>\n",
       "      <td>New Delhi, Jan 15 (IANS) In a recent developme...</td>\n",
       "      <td>254</td>\n",
       "    </tr>\n",
       "    <tr>\n",
       "      <th>3165</th>\n",
       "      <td>The current market scenario for the Nifty Meta...</td>\n",
       "      <td>396</td>\n",
       "    </tr>\n",
       "  </tbody>\n",
       "</table>\n",
       "</div>"
      ],
      "text/plain": [
       "                                                   text  nwords_text\n",
       "15    Shimla, Jan 10 (IANS) A four-member multi-inst...          159\n",
       "461   SYDNEY - The Australian dollar experienced a n...          211\n",
       "1836  New Delhi, Jan 11 (IANS)  Life Insurance  Corp...          218\n",
       "2792  New Delhi, Jan 15 (IANS) In a recent developme...          254\n",
       "3165  The current market scenario for the Nifty Meta...          396"
      ]
     },
     "execution_count": 10,
     "metadata": {},
     "output_type": "execute_result"
    }
   ],
   "source": [
    "df[\"nwords_text\"] = df[\"text\"].apply(word_count)\n",
    "df.head()"
   ]
  },
  {
   "cell_type": "code",
   "execution_count": null,
   "id": "f5fe0eca",
   "metadata": {},
   "outputs": [],
   "source": []
  },
  {
   "cell_type": "code",
   "execution_count": null,
   "id": "dff9ecbb",
   "metadata": {},
   "outputs": [],
   "source": []
  },
  {
   "cell_type": "code",
   "execution_count": 11,
   "id": "7345a937",
   "metadata": {},
   "outputs": [],
   "source": [
    "def generate_summary(text, model):\n",
    "    \n",
    "    nwords_summary = int(0.2*word_count(text))\n",
    "    \n",
    "    prompt =  f\"Your goal is to summarize the given text in maximum {nwords_summary} words. \\\n",
    "               Extract the most important information. \\\n",
    "               Only output the summary without any additional text.\"\n",
    "\n",
    "    \n",
    "    response = ollama.chat(model=model, messages=[\n",
    "        {\n",
    "            'role': 'system',\n",
    "            'content': prompt\n",
    "        },\n",
    "        {\n",
    "            'role': 'user',\n",
    "            'content': text,\n",
    "        },\n",
    "    ])\n",
    "    summary = response['message']['content']\n",
    "    \n",
    "    return summary"
   ]
  },
  {
   "cell_type": "code",
   "execution_count": 12,
   "id": "ae1dd9b7",
   "metadata": {},
   "outputs": [],
   "source": [
    "ollms = [\"llama3.1\", \"mistral\", \"phi3\", \"gemma2\",  \"qwen2:7b\"]  "
   ]
  },
  {
   "cell_type": "code",
   "execution_count": 13,
   "id": "2ed54a41",
   "metadata": {},
   "outputs": [
    {
     "name": "stdout",
     "output_type": "stream",
     "text": [
      "llama3.1\n",
      "mistral\n",
      "phi3\n",
      "gemma2\n",
      "qwen2:7b\n"
     ]
    }
   ],
   "source": [
    "for llm in ollms: \n",
    "    print(llm)\n",
    "    df[llm + \"_summary\"] = df[\"text\"].apply(lambda x: generate_summary(x, model=llm))"
   ]
  },
  {
   "cell_type": "code",
   "execution_count": 14,
   "id": "98f9e3c9",
   "metadata": {},
   "outputs": [],
   "source": [
    "#df[\"summary\"] = df[\"text\"].apply(lambda x: generate_summary(x, model='phi3'))"
   ]
  },
  {
   "cell_type": "code",
   "execution_count": 15,
   "id": "a919abea",
   "metadata": {},
   "outputs": [],
   "source": [
    "for llm in ollms: \n",
    "    col = llm + \"_summary\"\n",
    "    col_cnt = llm + \"_summary_nwords_percnt\"\n",
    "    df[col_cnt] = df[col].apply(word_count)\n",
    "    df[col_cnt] = 100*df[col_cnt]/df['nwords_text']\n",
    "    "
   ]
  },
  {
   "cell_type": "code",
   "execution_count": 16,
   "id": "3d4fd2cd",
   "metadata": {},
   "outputs": [
    {
     "data": {
      "text/html": [
       "<div>\n",
       "<style scoped>\n",
       "    .dataframe tbody tr th:only-of-type {\n",
       "        vertical-align: middle;\n",
       "    }\n",
       "\n",
       "    .dataframe tbody tr th {\n",
       "        vertical-align: top;\n",
       "    }\n",
       "\n",
       "    .dataframe thead th {\n",
       "        text-align: right;\n",
       "    }\n",
       "</style>\n",
       "<table border=\"1\" class=\"dataframe\">\n",
       "  <thead>\n",
       "    <tr style=\"text-align: right;\">\n",
       "      <th></th>\n",
       "      <th>text</th>\n",
       "      <th>nwords_text</th>\n",
       "      <th>llama3.1_summary</th>\n",
       "      <th>mistral_summary</th>\n",
       "      <th>phi3_summary</th>\n",
       "      <th>gemma2_summary</th>\n",
       "      <th>qwen2:7b_summary</th>\n",
       "      <th>llama3.1_summary_nwords_percnt</th>\n",
       "      <th>mistral_summary_nwords_percnt</th>\n",
       "      <th>phi3_summary_nwords_percnt</th>\n",
       "      <th>gemma2_summary_nwords_percnt</th>\n",
       "      <th>qwen2:7b_summary_nwords_percnt</th>\n",
       "    </tr>\n",
       "  </thead>\n",
       "  <tbody>\n",
       "    <tr>\n",
       "      <th>15</th>\n",
       "      <td>Shimla, Jan 10 (IANS) A four-member multi-inst...</td>\n",
       "      <td>159</td>\n",
       "      <td>A team of scientists from Himachal Pradesh's N...</td>\n",
       "      <td>A team of scientists, including Monica Sharma...</td>\n",
       "      <td>A team led by Monica Sharma, Associate Profes...</td>\n",
       "      <td>A team of scientists, including Monica Sharma ...</td>\n",
       "      <td>A four-member multi-institutional team, includ...</td>\n",
       "      <td>17.610063</td>\n",
       "      <td>23.899371</td>\n",
       "      <td>42.138365</td>\n",
       "      <td>15.094340</td>\n",
       "      <td>16.352201</td>\n",
       "    </tr>\n",
       "    <tr>\n",
       "      <th>461</th>\n",
       "      <td>SYDNEY - The Australian dollar experienced a n...</td>\n",
       "      <td>211</td>\n",
       "      <td>The Australian dollar fell below US66 cents am...</td>\n",
       "      <td>1. Australian dollar falls below US66 cents ma...</td>\n",
       "      <td>Australian dollar dips below 66 cents US; Col...</td>\n",
       "      <td>The Australian dollar fell below US66 cents as...</td>\n",
       "      <td>The Australian dollar fell below US66 cents as...</td>\n",
       "      <td>18.957346</td>\n",
       "      <td>49.289100</td>\n",
       "      <td>18.957346</td>\n",
       "      <td>25.592417</td>\n",
       "      <td>47.393365</td>\n",
       "    </tr>\n",
       "    <tr>\n",
       "      <th>1836</th>\n",
       "      <td>New Delhi, Jan 11 (IANS)  Life Insurance  Corp...</td>\n",
       "      <td>218</td>\n",
       "      <td>Life Insurance Corporation of India received o...</td>\n",
       "      <td>LIC India receives Rs 3,528 crore demand from...</td>\n",
       "      <td>LIC of India faces orders worth Rs. 3,528 cro...</td>\n",
       "      <td>LIC received Income Tax orders for Rs 3,528 cr...</td>\n",
       "      <td>Life Insurance Corporation of India received o...</td>\n",
       "      <td>26.605505</td>\n",
       "      <td>21.100917</td>\n",
       "      <td>26.605505</td>\n",
       "      <td>22.477064</td>\n",
       "      <td>24.770642</td>\n",
       "    </tr>\n",
       "    <tr>\n",
       "      <th>2792</th>\n",
       "      <td>New Delhi, Jan 15 (IANS) In a recent developme...</td>\n",
       "      <td>254</td>\n",
       "      <td>Lenders of cash-strapped Go First have extende...</td>\n",
       "      <td>Airline Go First: Lenders extend deadline for...</td>\n",
       "      <td>Resolution Professional of Go First extends f...</td>\n",
       "      <td>Go First's lenders have extended the deadline ...</td>\n",
       "      <td>Lenders of cash-strapped Go First have extende...</td>\n",
       "      <td>13.779528</td>\n",
       "      <td>21.653543</td>\n",
       "      <td>27.559055</td>\n",
       "      <td>20.078740</td>\n",
       "      <td>21.259843</td>\n",
       "    </tr>\n",
       "    <tr>\n",
       "      <th>3165</th>\n",
       "      <td>The current market scenario for the Nifty Meta...</td>\n",
       "      <td>396</td>\n",
       "      <td>The Nifty Metal Index is in a bearish trend, w...</td>\n",
       "      <td>The Nifty Metal Index shows a bearish trend w...</td>\n",
       "      <td>The Nifty Metal Index is currently bearish wi...</td>\n",
       "      <td>The Nifty Metal Index exhibits a bearish trend...</td>\n",
       "      <td>The Nifty Metal Index shows a near-term bearis...</td>\n",
       "      <td>19.191919</td>\n",
       "      <td>18.939394</td>\n",
       "      <td>18.939394</td>\n",
       "      <td>17.171717</td>\n",
       "      <td>22.727273</td>\n",
       "    </tr>\n",
       "  </tbody>\n",
       "</table>\n",
       "</div>"
      ],
      "text/plain": [
       "                                                   text  nwords_text  \\\n",
       "15    Shimla, Jan 10 (IANS) A four-member multi-inst...          159   \n",
       "461   SYDNEY - The Australian dollar experienced a n...          211   \n",
       "1836  New Delhi, Jan 11 (IANS)  Life Insurance  Corp...          218   \n",
       "2792  New Delhi, Jan 15 (IANS) In a recent developme...          254   \n",
       "3165  The current market scenario for the Nifty Meta...          396   \n",
       "\n",
       "                                       llama3.1_summary  \\\n",
       "15    A team of scientists from Himachal Pradesh's N...   \n",
       "461   The Australian dollar fell below US66 cents am...   \n",
       "1836  Life Insurance Corporation of India received o...   \n",
       "2792  Lenders of cash-strapped Go First have extende...   \n",
       "3165  The Nifty Metal Index is in a bearish trend, w...   \n",
       "\n",
       "                                        mistral_summary  \\\n",
       "15     A team of scientists, including Monica Sharma...   \n",
       "461   1. Australian dollar falls below US66 cents ma...   \n",
       "1836   LIC India receives Rs 3,528 crore demand from...   \n",
       "2792   Airline Go First: Lenders extend deadline for...   \n",
       "3165   The Nifty Metal Index shows a bearish trend w...   \n",
       "\n",
       "                                           phi3_summary  \\\n",
       "15     A team led by Monica Sharma, Associate Profes...   \n",
       "461    Australian dollar dips below 66 cents US; Col...   \n",
       "1836   LIC of India faces orders worth Rs. 3,528 cro...   \n",
       "2792   Resolution Professional of Go First extends f...   \n",
       "3165   The Nifty Metal Index is currently bearish wi...   \n",
       "\n",
       "                                         gemma2_summary  \\\n",
       "15    A team of scientists, including Monica Sharma ...   \n",
       "461   The Australian dollar fell below US66 cents as...   \n",
       "1836  LIC received Income Tax orders for Rs 3,528 cr...   \n",
       "2792  Go First's lenders have extended the deadline ...   \n",
       "3165  The Nifty Metal Index exhibits a bearish trend...   \n",
       "\n",
       "                                       qwen2:7b_summary  \\\n",
       "15    A four-member multi-institutional team, includ...   \n",
       "461   The Australian dollar fell below US66 cents as...   \n",
       "1836  Life Insurance Corporation of India received o...   \n",
       "2792  Lenders of cash-strapped Go First have extende...   \n",
       "3165  The Nifty Metal Index shows a near-term bearis...   \n",
       "\n",
       "      llama3.1_summary_nwords_percnt  mistral_summary_nwords_percnt  \\\n",
       "15                         17.610063                      23.899371   \n",
       "461                        18.957346                      49.289100   \n",
       "1836                       26.605505                      21.100917   \n",
       "2792                       13.779528                      21.653543   \n",
       "3165                       19.191919                      18.939394   \n",
       "\n",
       "      phi3_summary_nwords_percnt  gemma2_summary_nwords_percnt  \\\n",
       "15                     42.138365                     15.094340   \n",
       "461                    18.957346                     25.592417   \n",
       "1836                   26.605505                     22.477064   \n",
       "2792                   27.559055                     20.078740   \n",
       "3165                   18.939394                     17.171717   \n",
       "\n",
       "      qwen2:7b_summary_nwords_percnt  \n",
       "15                         16.352201  \n",
       "461                        47.393365  \n",
       "1836                       24.770642  \n",
       "2792                       21.259843  \n",
       "3165                       22.727273  "
      ]
     },
     "execution_count": 16,
     "metadata": {},
     "output_type": "execute_result"
    }
   ],
   "source": [
    "df.head()"
   ]
  },
  {
   "cell_type": "code",
   "execution_count": 17,
   "id": "88ce7751",
   "metadata": {},
   "outputs": [],
   "source": [
    "contexts =  [[text] for text in df[\"text\"]]"
   ]
  },
  {
   "cell_type": "code",
   "execution_count": 19,
   "id": "b0bbbd0b",
   "metadata": {},
   "outputs": [],
   "source": [
    "from langchain_community.llms import Ollama\n",
    "evaluator_llm = Ollama(model=\"mistral\", timeout=600)"
   ]
  },
  {
   "cell_type": "code",
   "execution_count": 20,
   "id": "cb56f3c6",
   "metadata": {},
   "outputs": [
    {
     "name": "stderr",
     "output_type": "stream",
     "text": [
      "/Users/sridharkannam/anaconda3/envs/py99/lib/python3.10/site-packages/langchain_core/_api/deprecation.py:141: LangChainDeprecationWarning: The class `ChatOpenAI` was deprecated in LangChain 0.0.10 and will be removed in 0.3.0. An updated version of the class exists in the langchain-openai package and should be used instead. To use it run `pip install -U langchain-openai` and import as `from langchain_openai import ChatOpenAI`.\n",
      "  warn_deprecated(\n"
     ]
    }
   ],
   "source": [
    "from langchain.chat_models import ChatOpenAI\n",
    "evaluator_llm  = ChatOpenAI(model_name=\"gpt-4o-mini\")"
   ]
  },
  {
   "cell_type": "code",
   "execution_count": 23,
   "id": "d27be48a",
   "metadata": {},
   "outputs": [
    {
     "name": "stdout",
     "output_type": "stream",
     "text": [
      "llama3.1\n"
     ]
    },
    {
     "data": {
      "application/vnd.jupyter.widget-view+json": {
       "model_id": "c707b4d4955b416ebd8b940ffd4ccc9b",
       "version_major": 2,
       "version_minor": 0
      },
      "text/plain": [
       "Evaluating:   0%|          | 0/10 [00:00<?, ?it/s]"
      ]
     },
     "metadata": {},
     "output_type": "display_data"
    },
    {
     "name": "stdout",
     "output_type": "stream",
     "text": [
      "mistral\n"
     ]
    },
    {
     "data": {
      "application/vnd.jupyter.widget-view+json": {
       "model_id": "b6c1e6948a824d7e8ae18b21fb353cc7",
       "version_major": 2,
       "version_minor": 0
      },
      "text/plain": [
       "Evaluating:   0%|          | 0/10 [00:00<?, ?it/s]"
      ]
     },
     "metadata": {},
     "output_type": "display_data"
    },
    {
     "name": "stdout",
     "output_type": "stream",
     "text": [
      "phi3\n"
     ]
    },
    {
     "data": {
      "application/vnd.jupyter.widget-view+json": {
       "model_id": "338d7c62247644479df2f13168293b22",
       "version_major": 2,
       "version_minor": 0
      },
      "text/plain": [
       "Evaluating:   0%|          | 0/10 [00:00<?, ?it/s]"
      ]
     },
     "metadata": {},
     "output_type": "display_data"
    },
    {
     "name": "stdout",
     "output_type": "stream",
     "text": [
      "gemma2\n"
     ]
    },
    {
     "data": {
      "application/vnd.jupyter.widget-view+json": {
       "model_id": "32b887b73d0b4c419bc544f1660cb2c4",
       "version_major": 2,
       "version_minor": 0
      },
      "text/plain": [
       "Evaluating:   0%|          | 0/10 [00:00<?, ?it/s]"
      ]
     },
     "metadata": {},
     "output_type": "display_data"
    },
    {
     "name": "stdout",
     "output_type": "stream",
     "text": [
      "qwen2:7b\n"
     ]
    },
    {
     "data": {
      "application/vnd.jupyter.widget-view+json": {
       "model_id": "0b9231b82e0440c585fec1bd994ddf0d",
       "version_major": 2,
       "version_minor": 0
      },
      "text/plain": [
       "Evaluating:   0%|          | 0/10 [00:00<?, ?it/s]"
      ]
     },
     "metadata": {},
     "output_type": "display_data"
    }
   ],
   "source": [
    "df_scores = pd.DataFrame()\n",
    "\n",
    "for llm in ollms: \n",
    "    print(llm)\n",
    "    col = llm + \"_summary\"\n",
    "    data_samples = {\n",
    "        'contexts' : contexts,\n",
    "        'summary': df[col].to_list()\n",
    "    }\n",
    "\n",
    "    dataset = Dataset.from_dict(data_samples)\n",
    "    \n",
    "    score = evaluate(dataset,\n",
    "                     metrics=[summarization_score],\n",
    "                     llm=evaluator_llm,\n",
    "                    )\n",
    "    \n",
    "    df_scores[llm] = score.to_pandas()['summary_score']"
   ]
  },
  {
   "cell_type": "code",
   "execution_count": 24,
   "id": "6428ed20",
   "metadata": {},
   "outputs": [
    {
     "data": {
      "text/html": [
       "<div>\n",
       "<style scoped>\n",
       "    .dataframe tbody tr th:only-of-type {\n",
       "        vertical-align: middle;\n",
       "    }\n",
       "\n",
       "    .dataframe tbody tr th {\n",
       "        vertical-align: top;\n",
       "    }\n",
       "\n",
       "    .dataframe thead th {\n",
       "        text-align: right;\n",
       "    }\n",
       "</style>\n",
       "<table border=\"1\" class=\"dataframe\">\n",
       "  <thead>\n",
       "    <tr style=\"text-align: right;\">\n",
       "      <th></th>\n",
       "      <th>llama3.1</th>\n",
       "      <th>mistral</th>\n",
       "      <th>phi3</th>\n",
       "      <th>gemma2</th>\n",
       "      <th>qwen2:7b</th>\n",
       "    </tr>\n",
       "  </thead>\n",
       "  <tbody>\n",
       "    <tr>\n",
       "      <th>0</th>\n",
       "      <td>0.525074</td>\n",
       "      <td>0.453217</td>\n",
       "      <td>0.548158</td>\n",
       "      <td>0.496961</td>\n",
       "      <td>0.448621</td>\n",
       "    </tr>\n",
       "    <tr>\n",
       "      <th>1</th>\n",
       "      <td>0.598834</td>\n",
       "      <td>0.697873</td>\n",
       "      <td>0.598739</td>\n",
       "      <td>0.599133</td>\n",
       "      <td>0.622644</td>\n",
       "    </tr>\n",
       "    <tr>\n",
       "      <th>2</th>\n",
       "      <td>0.532754</td>\n",
       "      <td>0.503204</td>\n",
       "      <td>0.555257</td>\n",
       "      <td>0.652181</td>\n",
       "      <td>0.559006</td>\n",
       "    </tr>\n",
       "    <tr>\n",
       "      <th>3</th>\n",
       "      <td>0.630851</td>\n",
       "      <td>0.621481</td>\n",
       "      <td>0.727112</td>\n",
       "      <td>0.652778</td>\n",
       "      <td>0.594208</td>\n",
       "    </tr>\n",
       "    <tr>\n",
       "      <th>4</th>\n",
       "      <td>0.727854</td>\n",
       "      <td>0.872764</td>\n",
       "      <td>0.729596</td>\n",
       "      <td>0.825914</td>\n",
       "      <td>0.893865</td>\n",
       "    </tr>\n",
       "  </tbody>\n",
       "</table>\n",
       "</div>"
      ],
      "text/plain": [
       "   llama3.1   mistral      phi3    gemma2  qwen2:7b\n",
       "0  0.525074  0.453217  0.548158  0.496961  0.448621\n",
       "1  0.598834  0.697873  0.598739  0.599133  0.622644\n",
       "2  0.532754  0.503204  0.555257  0.652181  0.559006\n",
       "3  0.630851  0.621481  0.727112  0.652778  0.594208\n",
       "4  0.727854  0.872764  0.729596  0.825914  0.893865"
      ]
     },
     "execution_count": 24,
     "metadata": {},
     "output_type": "execute_result"
    }
   ],
   "source": [
    "df_scores.head()"
   ]
  },
  {
   "cell_type": "code",
   "execution_count": null,
   "id": "38ed1c8d",
   "metadata": {},
   "outputs": [],
   "source": []
  },
  {
   "cell_type": "code",
   "execution_count": 25,
   "id": "cb61569f",
   "metadata": {},
   "outputs": [],
   "source": [
    "import matplotlib.pyplot as plt\n",
    "\n",
    "# Assuming you already have the DataFrame `df`\n",
    "# Calculating the mean and standard deviation for each model\n",
    "mean_scores = df_scores.mean()\n",
    "std_scores = df_scores.std()\n",
    "\n",
    "# Creating a DataFrame for plotting\n",
    "summary_df = pd.DataFrame({\n",
    "    'Model': mean_scores.index,\n",
    "    'Mean Score': mean_scores.values,\n",
    "    'Standard Deviation': std_scores.values\n",
    "})\n",
    "\n",
    "# Sorting the DataFrame to ensure the order in the plot\n",
    "summary_df = summary_df.sort_values('Mean Score', ascending=True)"
   ]
  },
  {
   "cell_type": "code",
   "execution_count": 26,
   "id": "c83408d6",
   "metadata": {},
   "outputs": [
    {
     "data": {
      "text/html": [
       "<div>\n",
       "<style scoped>\n",
       "    .dataframe tbody tr th:only-of-type {\n",
       "        vertical-align: middle;\n",
       "    }\n",
       "\n",
       "    .dataframe tbody tr th {\n",
       "        vertical-align: top;\n",
       "    }\n",
       "\n",
       "    .dataframe thead th {\n",
       "        text-align: right;\n",
       "    }\n",
       "</style>\n",
       "<table border=\"1\" class=\"dataframe\">\n",
       "  <thead>\n",
       "    <tr style=\"text-align: right;\">\n",
       "      <th></th>\n",
       "      <th>Model</th>\n",
       "      <th>Mean Score</th>\n",
       "      <th>Standard Deviation</th>\n",
       "    </tr>\n",
       "  </thead>\n",
       "  <tbody>\n",
       "    <tr>\n",
       "      <th>0</th>\n",
       "      <td>llama3.1</td>\n",
       "      <td>0.610823</td>\n",
       "      <td>0.085385</td>\n",
       "    </tr>\n",
       "    <tr>\n",
       "      <th>2</th>\n",
       "      <td>phi3</td>\n",
       "      <td>0.617078</td>\n",
       "      <td>0.120851</td>\n",
       "    </tr>\n",
       "    <tr>\n",
       "      <th>4</th>\n",
       "      <td>qwen2:7b</td>\n",
       "      <td>0.641175</td>\n",
       "      <td>0.134254</td>\n",
       "    </tr>\n",
       "    <tr>\n",
       "      <th>3</th>\n",
       "      <td>gemma2</td>\n",
       "      <td>0.652462</td>\n",
       "      <td>0.086709</td>\n",
       "    </tr>\n",
       "    <tr>\n",
       "      <th>1</th>\n",
       "      <td>mistral</td>\n",
       "      <td>0.657950</td>\n",
       "      <td>0.141080</td>\n",
       "    </tr>\n",
       "  </tbody>\n",
       "</table>\n",
       "</div>"
      ],
      "text/plain": [
       "      Model  Mean Score  Standard Deviation\n",
       "0  llama3.1    0.610823            0.085385\n",
       "2      phi3    0.617078            0.120851\n",
       "4  qwen2:7b    0.641175            0.134254\n",
       "3    gemma2    0.652462            0.086709\n",
       "1   mistral    0.657950            0.141080"
      ]
     },
     "execution_count": 26,
     "metadata": {},
     "output_type": "execute_result"
    }
   ],
   "source": [
    "summary_df"
   ]
  },
  {
   "cell_type": "code",
   "execution_count": 27,
   "id": "e3dddf42",
   "metadata": {},
   "outputs": [],
   "source": [
    "summary_df['Mean Score'] = summary_df['Mean Score'].round(2)"
   ]
  },
  {
   "cell_type": "code",
   "execution_count": 31,
   "id": "d81182e8",
   "metadata": {},
   "outputs": [
    {
     "data": {
      "image/png": "[encoded data removed]",
      "text/plain": [
       "<Figure size 1200x500 with 1 Axes>"
      ]
     },
     "metadata": {
      "needs_background": "light"
     },
     "output_type": "display_data"
    }
   ],
   "source": [
    "# Create the plot with a transparent figure\n",
    "fig, ax = plt.subplots(figsize=(12, 5), facecolor='none', edgecolor='none')\n",
    "fig.patch.set_alpha(0)\n",
    "\n",
    "# Create horizontal bar plot\n",
    "bars = ax.barh(summary_df['Model'], summary_df['Mean Score'], height=0.65, color=\"green\"\n",
    "              )\n",
    "\n",
    "# Remove y-axis labels\n",
    "ax.set_yticks([])\n",
    "\n",
    "# Remove the frame\n",
    "for spine in ax.spines.values():\n",
    "    spine.set_visible(False)\n",
    "\n",
    "# Add count labels to the end of each bar\n",
    "for i, bar in enumerate(bars):\n",
    "    width = bar.get_width()\n",
    "    ax.text(width, bar.get_y() + bar.get_height()/2, f' {width}', \n",
    "            ha='left', va='center', fontweight='bold', fontsize=15, color='red')\n",
    "\n",
    "# Add name labels inside each bar\n",
    "for i, bar in enumerate(bars):\n",
    "    width = bar.get_width()\n",
    "    ax.text(width/2, bar.get_y() + bar.get_height()/2, summary_df['Model'].iloc[i], \n",
    "            ha='center', va='center', fontweight='bold', fontsize=15, color='white')\n",
    "\n",
    "# Set the title\n",
    "#ax.set_title('Count by Name', fontsize=16, fontweight='bold', pad=20)\n",
    "\n",
    "# Remove x-axis label\n",
    "ax.set_xlabel('')\n",
    "\n",
    "# Set the background of the axis to transparent\n",
    "ax.patch.set_alpha(0)\n",
    "\n",
    "# Adjust layout and display the plot\n",
    "plt.tight_layout()\n",
    "\n",
    "plt.suptitle(\"LLMs Text Summarisation Performance\", fontsize=20)\n",
    "# Save the figure with transparent background\n",
    "plt.savefig('summary1.png', dpi=300, bbox_inches='tight', transparent=True)\n",
    "\n",
    "# Display the plot (optional, remove if you only want to save the file)\n",
    "plt.show()"
   ]
  },
  {
   "cell_type": "code",
   "execution_count": null,
   "id": "17caee2f",
   "metadata": {},
   "outputs": [],
   "source": []
  },
  {
   "cell_type": "code",
   "execution_count": null,
   "id": "9620ed10",
   "metadata": {},
   "outputs": [],
   "source": []
  },
  {
   "cell_type": "code",
   "execution_count": null,
   "id": "a9df5fb8",
   "metadata": {},
   "outputs": [],
   "source": []
  }
 ],
 "metadata": {
  "kernelspec": {
   "display_name": "py99",
   "language": "python",
   "name": "py99"
  },
  "language_info": {
   "codemirror_mode": {
    "name": "ipython",
    "version": 3
   },
   "file_extension": ".py",
   "mimetype": "text/x-python",
   "name": "python",
   "nbconvert_exporter": "python",
   "pygments_lexer": "ipython3",
   "version": "3.10.13"
  }
 },
 "nbformat": 4,
 "nbformat_minor": 5
}
